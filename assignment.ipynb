{
 "cells": [
  {
   "cell_type": "code",
   "execution_count": 22,
   "id": "2fb11596-e8e3-4b11-821c-6b5b16f5a4e8",
   "metadata": {},
   "outputs": [
    {
     "name": "stdout",
     "output_type": "stream",
     "text": [
      "Requirement already satisfied: selenium in c:\\users\\jatad\\anaconda3\\lib\\site-packages (4.24.0)\n",
      "Requirement already satisfied: pytest in c:\\users\\jatad\\anaconda3\\lib\\site-packages (8.3.2)\n",
      "Collecting allure-pytest\n",
      "  Downloading allure_pytest-2.13.5-py3-none-any.whl.metadata (2.8 kB)\n",
      "Requirement already satisfied: urllib3<3,>=1.26 in c:\\users\\jatad\\anaconda3\\lib\\site-packages (from urllib3[socks]<3,>=1.26->selenium) (2.0.7)\n",
      "Requirement already satisfied: trio~=0.17 in c:\\users\\jatad\\anaconda3\\lib\\site-packages (from selenium) (0.26.2)\n",
      "Requirement already satisfied: trio-websocket~=0.9 in c:\\users\\jatad\\anaconda3\\lib\\site-packages (from selenium) (0.11.1)\n",
      "Requirement already satisfied: certifi>=2021.10.8 in c:\\users\\jatad\\anaconda3\\lib\\site-packages (from selenium) (2024.8.30)\n",
      "Requirement already satisfied: typing_extensions~=4.9 in c:\\users\\jatad\\anaconda3\\lib\\site-packages (from selenium) (4.12.2)\n",
      "Requirement already satisfied: websocket-client~=1.8 in c:\\users\\jatad\\anaconda3\\lib\\site-packages (from selenium) (1.8.0)\n",
      "Requirement already satisfied: iniconfig in c:\\users\\jatad\\anaconda3\\lib\\site-packages (from pytest) (1.1.1)\n",
      "Requirement already satisfied: packaging in c:\\users\\jatad\\anaconda3\\lib\\site-packages (from pytest) (23.1)\n",
      "Requirement already satisfied: pluggy<2,>=1.5 in c:\\users\\jatad\\anaconda3\\lib\\site-packages (from pytest) (1.5.0)\n",
      "Requirement already satisfied: colorama in c:\\users\\jatad\\anaconda3\\lib\\site-packages (from pytest) (0.4.6)\n",
      "Collecting allure-python-commons==2.13.5 (from allure-pytest)\n",
      "  Downloading allure_python_commons-2.13.5-py3-none-any.whl.metadata (5.5 kB)\n",
      "Requirement already satisfied: attrs>=16.0.0 in c:\\users\\jatad\\anaconda3\\lib\\site-packages (from allure-python-commons==2.13.5->allure-pytest) (24.2.0)\n",
      "Requirement already satisfied: sortedcontainers in c:\\users\\jatad\\anaconda3\\lib\\site-packages (from trio~=0.17->selenium) (2.4.0)\n",
      "Requirement already satisfied: idna in c:\\users\\jatad\\anaconda3\\lib\\site-packages (from trio~=0.17->selenium) (3.4)\n",
      "Requirement already satisfied: outcome in c:\\users\\jatad\\anaconda3\\lib\\site-packages (from trio~=0.17->selenium) (1.3.0.post0)\n",
      "Requirement already satisfied: sniffio>=1.3.0 in c:\\users\\jatad\\anaconda3\\lib\\site-packages (from trio~=0.17->selenium) (1.3.0)\n",
      "Requirement already satisfied: cffi>=1.14 in c:\\users\\jatad\\anaconda3\\lib\\site-packages (from trio~=0.17->selenium) (1.16.0)\n",
      "Requirement already satisfied: wsproto>=0.14 in c:\\users\\jatad\\anaconda3\\lib\\site-packages (from trio-websocket~=0.9->selenium) (1.2.0)\n",
      "Requirement already satisfied: pysocks!=1.5.7,<2.0,>=1.5.6 in c:\\users\\jatad\\anaconda3\\lib\\site-packages (from urllib3[socks]<3,>=1.26->selenium) (1.7.1)\n",
      "Requirement already satisfied: pycparser in c:\\users\\jatad\\anaconda3\\lib\\site-packages (from cffi>=1.14->trio~=0.17->selenium) (2.21)\n",
      "Requirement already satisfied: h11<1,>=0.9.0 in c:\\users\\jatad\\anaconda3\\lib\\site-packages (from wsproto>=0.14->trio-websocket~=0.9->selenium) (0.14.0)\n",
      "Downloading allure_pytest-2.13.5-py3-none-any.whl (11 kB)\n",
      "Downloading allure_python_commons-2.13.5-py3-none-any.whl (15 kB)\n",
      "Installing collected packages: allure-python-commons, allure-pytest\n",
      "Successfully installed allure-pytest-2.13.5 allure-python-commons-2.13.5\n"
     ]
    },
    {
     "name": "stderr",
     "output_type": "stream",
     "text": [
      "DEPRECATION: Loading egg at c:\\users\\jatad\\anaconda3\\lib\\site-packages\\apache_beam-2.58.0-py3.11-win-amd64.egg is deprecated. pip 24.3 will enforce this behaviour change. A possible replacement is to use pip for package installation.. Discussion can be found at https://github.com/pypa/pip/issues/12330\n",
      "DEPRECATION: Loading egg at c:\\users\\jatad\\anaconda3\\lib\\site-packages\\avro_python3-1.10.2-py3.11.egg is deprecated. pip 24.3 will enforce this behaviour change. A possible replacement is to use pip for package installation.. Discussion can be found at https://github.com/pypa/pip/issues/12330\n",
      "DEPRECATION: Loading egg at c:\\users\\jatad\\anaconda3\\lib\\site-packages\\contextlib2-21.6.0-py3.11.egg is deprecated. pip 24.3 will enforce this behaviour change. A possible replacement is to use pip for package installation.. Discussion can be found at https://github.com/pypa/pip/issues/12330\n",
      "DEPRECATION: Loading egg at c:\\users\\jatad\\anaconda3\\lib\\site-packages\\cython-3.0.11-py3.11-win-amd64.egg is deprecated. pip 24.3 will enforce this behaviour change. A possible replacement is to use pip for package installation.. Discussion can be found at https://github.com/pypa/pip/issues/12330\n",
      "DEPRECATION: Loading egg at c:\\users\\jatad\\anaconda3\\lib\\site-packages\\lvis-0.5.3-py3.11.egg is deprecated. pip 24.3 will enforce this behaviour change. A possible replacement is to use pip for package installation.. Discussion can be found at https://github.com/pypa/pip/issues/12330\n",
      "DEPRECATION: Loading egg at c:\\users\\jatad\\anaconda3\\lib\\site-packages\\object_detection-0.1-py3.11.egg is deprecated. pip 24.3 will enforce this behaviour change. A possible replacement is to use pip for package installation.. Discussion can be found at https://github.com/pypa/pip/issues/12330\n",
      "DEPRECATION: Loading egg at c:\\users\\jatad\\anaconda3\\lib\\site-packages\\portalocker-2.10.1-py3.11.egg is deprecated. pip 24.3 will enforce this behaviour change. A possible replacement is to use pip for package installation.. Discussion can be found at https://github.com/pypa/pip/issues/12330\n",
      "DEPRECATION: Loading egg at c:\\users\\jatad\\anaconda3\\lib\\site-packages\\pycocotools-2.0.8-py3.11-win-amd64.egg is deprecated. pip 24.3 will enforce this behaviour change. A possible replacement is to use pip for package installation.. Discussion can be found at https://github.com/pypa/pip/issues/12330\n",
      "DEPRECATION: Loading egg at c:\\users\\jatad\\anaconda3\\lib\\site-packages\\pyparsing-2.4.7-py3.11.egg is deprecated. pip 24.3 will enforce this behaviour change. A possible replacement is to use pip for package installation.. Discussion can be found at https://github.com/pypa/pip/issues/12330\n",
      "DEPRECATION: Loading egg at c:\\users\\jatad\\anaconda3\\lib\\site-packages\\sacrebleu-2.2.0-py3.11.egg is deprecated. pip 24.3 will enforce this behaviour change. A possible replacement is to use pip for package installation.. Discussion can be found at https://github.com/pypa/pip/issues/12330\n",
      "DEPRECATION: Loading egg at c:\\users\\jatad\\anaconda3\\lib\\site-packages\\tensorflow_io-0.31.0-py3.11-win-amd64.egg is deprecated. pip 24.3 will enforce this behaviour change. A possible replacement is to use pip for package installation.. Discussion can be found at https://github.com/pypa/pip/issues/12330\n",
      "DEPRECATION: Loading egg at c:\\users\\jatad\\anaconda3\\lib\\site-packages\\tf_models_official-2.17.0-py3.11.egg is deprecated. pip 24.3 will enforce this behaviour change. A possible replacement is to use pip for package installation.. Discussion can be found at https://github.com/pypa/pip/issues/12330\n",
      "DEPRECATION: Loading egg at c:\\users\\jatad\\anaconda3\\lib\\site-packages\\tf_slim-1.1.0-py3.11.egg is deprecated. pip 24.3 will enforce this behaviour change. A possible replacement is to use pip for package installation.. Discussion can be found at https://github.com/pypa/pip/issues/12330\n"
     ]
    }
   ],
   "source": [
    "!pip install selenium pytest allure-pytest"
   ]
  },
  {
   "cell_type": "markdown",
   "id": "b97a92f4-8d39-4a15-afe9-2c2e21619d58",
   "metadata": {},
   "source": [
    "automation_tests/\n",
    "│\n",
    "├── tests/\n",
    "│   ├── test_functional.py\n",
    "│   ├── test_login.py\n",
    "│   ├── test_ui.py\n",
    "│   └── test_form_validation.py\n",
    "│\n",
    "├── conftest.py\n",
    "├── requirements.txt\n",
    "└── pytest.ini\n"
   ]
  },
  {
   "cell_type": "code",
   "execution_count": 29,
   "id": "897dc617-10fa-462f-949e-ddb23c428131",
   "metadata": {},
   "outputs": [],
   "source": [
    "from selenium import webdriver\n",
    "from selenium.webdriver.common.keys import Keys\n",
    "from selenium.webdriver.common.by import By\n",
    "import pytest\n",
    "\n",
    "def test_search_add_to_cart():\n",
    "    driver = webdriver.Chrome()\n",
    "    driver.get(\"http://automationpractice.com/\")\n",
    "    \n",
    "    # Search for a product\n",
    "    search_box = driver.find_element(By.ID, \"search_query_top\")\n",
    "    search_box.send_keys(\"dress\")\n",
    "    search_box.send_keys(Keys.RETURN)\n",
    "    \n",
    "    # Add the first product to the cart\n",
    "    driver.find_element(By.CSS_SELECTOR, \".ajax_add_to_cart_button\").click()\n",
    "    \n",
    "    # Proceed to checkout\n",
    "    driver.find_element(By.CSS_SELECTOR, \".btn.btn-default.button.button-medium\").click()\n",
    "    \n",
    "    # Validate the product is in the cart\n",
    "    cart_product = driver.find_element(By.ID, \"cart_title\")\n",
    "    assert \"Your shopping cart contains\" in cart_product.text\n",
    "    \n",
    "    driver.quit()"
   ]
  },
  {
   "cell_type": "code",
   "execution_count": 30,
   "id": "3031b91e-4762-4f69-ae32-d3fc33558c27",
   "metadata": {},
   "outputs": [],
   "source": [
    "def test_valid_login():\n",
    "    driver = webdriver.Chrome()\n",
    "    driver.get(\"http://automationpractice.com/index.php?controller=authentication&back=my-account\")\n",
    "    \n",
    "    # Enter valid credentials\n",
    "    driver.find_element(By.ID, \"email\").send_keys(\"test@example.com\")\n",
    "    driver.find_element(By.ID, \"passwd\").send_keys(\"password\")\n",
    "    driver.find_element(By.ID, \"SubmitLogin\").click()\n",
    "    \n",
    "    # Validate successful login\n",
    "    assert \"MY ACCOUNT\" in driver.title\n",
    "    \n",
    "    driver.quit()\n",
    "\n",
    "def test_invalid_login():\n",
    "    driver = webdriver.Chrome()\n",
    "    driver.get(\"http://automationpractice.com/index.php?controller=authentication&back=my-account\")\n",
    "    \n",
    "    # Enter invalid credentials\n",
    "    driver.find_element(By.ID, \"email\").send_keys(\"wrong@example.com\")\n",
    "    driver.find_element(By.ID, \"passwd\").send_keys(\"wrongpassword\")\n",
    "    driver.find_element(By.ID, \"SubmitLogin\").click()\n",
    "    \n",
    "    # Validate error message\n",
    "    error_message = driver.find_element(By.CSS_SELECTOR, \".alert.alert-danger\")\n",
    "    assert \"Authentication failed.\" in error_message.text\n",
    "    \n",
    "    driver.quit()"
   ]
  },
  {
   "cell_type": "code",
   "execution_count": 31,
   "id": "bf9c943f-3d14-4811-9c77-d44549d5e80a",
   "metadata": {},
   "outputs": [],
   "source": [
    "def test_ui_elements():\n",
    "    driver = webdriver.Chrome()\n",
    "    driver.get(\"http://automationpractice.com/\")\n",
    "    \n",
    "    # Check search bar\n",
    "    assert driver.find_element(By.ID, \"search_query_top\").is_displayed()\n",
    "    \n",
    "    # Check navigation menu\n",
    "    assert driver.find_element(By.ID, \"block_top_menu\").is_displayed()\n",
    "    \n",
    "    # Check footer\n",
    "    assert driver.find_element(By.ID, \"footer\").is_displayed()\n",
    "    \n",
    "    driver.quit()"
   ]
  },
  {
   "cell_type": "code",
   "execution_count": 32,
   "id": "1b016c78-56e1-4854-aec9-a03a55522814",
   "metadata": {},
   "outputs": [],
   "source": [
    "def test_form_validation():\n",
    "    driver = webdriver.Chrome()\n",
    "    driver.get(\"http://automationpractice.com/index.php?controller=authentication&back=my-account\")\n",
    "    \n",
    "    # Fill out the form\n",
    "    driver.find_element(By.ID, \"email_create\").send_keys(\"invalidemail\")\n",
    "    driver.find_element(By.ID, \"SubmitCreate\").click()\n",
    "    \n",
    "    # Validate error for invalid email\n",
    "    error_message = driver.find_element(By.ID, \"create_account_error\")\n",
    "    assert \"Invalid email address.\" in error_message.text\n",
    "    \n",
    "    driver.quit()"
   ]
  },
  {
   "cell_type": "code",
   "execution_count": 33,
   "id": "e50831a2-f0db-46b0-bb62-be2ee89df1a2",
   "metadata": {},
   "outputs": [],
   "source": [
    "import logging\n",
    "\n",
    "logging.basicConfig(filename=\"test_log.log\", level=logging.INFO)\n",
    "\n",
    "def test_example():\n",
    "    try:\n",
    "        # Your test code here\n",
    "        logging.info(\"Test passed.\")\n",
    "    except Exception as e:\n",
    "        logging.error(f\"Test failed: {str(e)}\")\n",
    "        raise"
   ]
  },
  {
   "cell_type": "code",
   "execution_count": 34,
   "id": "098ca0e8-d397-41c7-8a9e-dc9be4637f9a",
   "metadata": {},
   "outputs": [],
   "source": [
    "class TestEcommerce:\n",
    "\n",
    "    def setup_method(self):\n",
    "        self.driver = webdriver.Chrome()\n",
    "        self.driver.get(\"http://automationpractice.com/\")\n",
    "\n",
    "    def teardown_method(self):\n",
    "        self.driver.quit()\n",
    "\n",
    "    def test_search(self):\n",
    "        search_box = self.driver.find_element(By.ID, \"search_query_top\")\n",
    "        search_box.send_keys(\"dress\")\n",
    "        search_box.send_keys(Keys.RETURN)\n",
    "        assert \"dress\" in self.driver.title\n",
    "\n",
    "    def test_add_to_cart(self):\n",
    "        # Additional code for adding to cart\n",
    "        pass"
   ]
  },
  {
   "cell_type": "code",
   "execution_count": null,
   "id": "bc7c1d9e-1f52-4153-8cd8-5db8a1f1d15b",
   "metadata": {},
   "outputs": [],
   "source": []
  }
 ],
 "metadata": {
  "kernelspec": {
   "display_name": "Python 3 (ipykernel)",
   "language": "python",
   "name": "python3"
  },
  "language_info": {
   "codemirror_mode": {
    "name": "ipython",
    "version": 3
   },
   "file_extension": ".py",
   "mimetype": "text/x-python",
   "name": "python",
   "nbconvert_exporter": "python",
   "pygments_lexer": "ipython3",
   "version": "3.11.7"
  }
 },
 "nbformat": 4,
 "nbformat_minor": 5
}
